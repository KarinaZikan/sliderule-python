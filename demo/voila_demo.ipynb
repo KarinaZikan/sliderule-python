{
 "cells": [
  {
   "cell_type": "markdown",
   "metadata": {
    "extensions": {
     "jupyter_dashboards": {
      "version": 1,
      "views": {
       "default_view": {
        "col": 0,
        "height": 5,
        "row": 0,
        "width": 10
       }
      }
     }
    }
   },
   "source": [
    "# SlideRule Voila Demo\n",
    "\n",
    "#### SlideRule is an on-demand science data processing service that runs in the cloud and responds to REST API calls to process and return science results.\n",
    "\n",
    "This web page is _not_ SlideRule but is a demonstration of using public SlideRule APIs to return elevations within a small region of interest.  The web page is implemented inside a Jupyter Notebook using SlideRule's Python client, and is statically served using Voila.  For more information on SlideRule, and how to install and use it for your own analysis applications, please see our website at [slideruleearth.io](https://slideruleearth.io).\n",
    "\n",
    "For more detailed example notebooks that use SlideRule APIs, check out these example notebooks at [github.com/SlideRuleEarth/sliderule-python](https://github.com/SlideRuleEarth/sliderule-python/tree/main/examples)."
   ]
  },
  {
   "cell_type": "markdown",
   "metadata": {
    "extensions": {
     "jupyter_dashboards": {
      "version": 1,
      "views": {
       "default_view": {
        "hidden": true
       }
      }
     }
    }
   },
   "source": [
    "### Surface Elevations ([atl06p](https://slideruleearth.io/rtd/api_reference/icesat2.html#atl06p))"
   ]
  },
  {
   "cell_type": "code",
   "execution_count": null,
   "metadata": {
    "extensions": {
     "jupyter_dashboards": {
      "version": 1,
      "views": {
       "default_view": {
        "hidden": true
       }
      }
     }
    }
   },
   "outputs": [],
   "source": [
    "import warnings\n",
    "warnings.filterwarnings('ignore') # turn off warnings for demo"
   ]
  },
  {
   "cell_type": "code",
   "execution_count": null,
   "metadata": {
    "extensions": {
     "jupyter_dashboards": {
      "version": 1,
      "views": {
       "default_view": {
        "hidden": true
       }
      }
     }
    }
   },
   "outputs": [],
   "source": [
    "# load the necessary packages\n",
    "from io import BytesIO\n",
    "from sliderule import icesat2, ipysliderule, io, sliderule\n",
    "import ipywidgets as widgets\n",
    "import geopandas\n",
    "import logging\n",
    "import base64\n",
    "import time\n",
    "import copy\n",
    "import json\n",
    "import re\n",
    "from IPython import display\n",
    "# atl03 plotting imports\n",
    "import numpy as np\n",
    "import matplotlib.pyplot as plt\n",
    "# autoreload\n",
    "%load_ext autoreload\n",
    "%autoreload 2\n",
    "%matplotlib inline"
   ]
  },
  {
   "cell_type": "code",
   "execution_count": null,
   "metadata": {
    "extensions": {
     "jupyter_dashboards": {
      "version": 1,
      "views": {
       "default_view": {
        "hidden": true
       }
      }
     }
    }
   },
   "outputs": [],
   "source": [
    "# create global variables\n",
    "atl06_rsps = None\n",
    "atl06_parms = None\n",
    "SRwidgets = ipysliderule.widgets()\n",
    "points_dropdown = None\n",
    "update_button = widgets.Button(description=\"Update Map\")\n",
    "run_button = widgets.Button(description=\"Run SlideRule!\")\n",
    "run_output = widgets.Output()\n",
    "refresh_button = widgets.Button(description=\"Refresh Plot\")\n",
    "refresh_output = widgets.Output()\n",
    "download_output = widgets.Output()\n",
    "download_atl06_button = widgets.Button(description=\"Download File\")\n",
    "download_atl03_button = widgets.Button(description=\"Download File\")\n",
    "SRwidgets.file_format.options = [\"GeoJSON\",\"csv\",\"geoparquet\"]\n",
    "SRwidgets.file_format.value = 'geoparquet'\n",
    "show_code06_button = widgets.Button(description=\"Show Code\")\n",
    "show_code06_output = widgets.Output()"
   ]
  },
  {
   "cell_type": "code",
   "execution_count": null,
   "metadata": {
    "extensions": {
     "jupyter_dashboards": {
      "version": 1,
      "views": {
       "default_view": {
        "col": 3,
        "height": 18,
        "row": 14,
        "width": 7
       }
      }
     }
    }
   },
   "outputs": [],
   "source": [
    "def create_map(projection):\n",
    "    # create ipyleaflet map in specified projection\n",
    "    global m\n",
    "    m = ipysliderule.leaflet(projection)\n",
    "    # install click handler callback\n",
    "    m.add_selected_callback(SRwidgets.atl06_click_handler)\n",
    "    display.display(m.map)\n",
    "\n",
    "# interactively change map when projection widget is changed\n",
    "out = widgets.interactive_output(create_map, dict(projection=SRwidgets.projection))\n",
    "display.display(out)\n",
    "display.display(run_output)"
   ]
  },
  {
   "cell_type": "code",
   "execution_count": null,
   "metadata": {
    "extensions": {
     "jupyter_dashboards": {
      "version": 1,
      "views": {
       "default_view": {
        "hidden": true
       }
      }
     }
    }
   },
   "outputs": [],
   "source": [
    "# update map\n",
    "def on_update_clicked(b):\n",
    "    m.add_layer(\n",
    "        layers=SRwidgets.layers.value,\n",
    "        rendering_rule=SRwidgets.rendering_rule\n",
    "    )\n",
    "\n",
    "# map widgets\n",
    "display.display(widgets.VBox([\n",
    "    SRwidgets.projection,\n",
    "    SRwidgets.layers,\n",
    "    SRwidgets.raster_functions\n",
    "]))\n",
    "\n",
    "# update button\n",
    "update_button.on_click(on_update_clicked)\n",
    "display.display(update_button)"
   ]
  },
  {
   "cell_type": "code",
   "execution_count": null,
   "metadata": {
    "extensions": {
     "jupyter_dashboards": {
      "version": 1,
      "views": {
       "default_view": {
        "hidden": true
       }
      }
     }
    }
   },
   "outputs": [],
   "source": [
    "%matplotlib inline\n",
    "granule_count = 0\n",
    "\n",
    "# callbacks for events and exceptions\n",
    "def demo_logeventrec(rec):\n",
    "    # print(f'{rec[\"attr\"]}                                                        \\r', end=\"\")\n",
    "    pass\n",
    "\n",
    "def demo_exceptrec(rec):\n",
    "    global granule_count\n",
    "    if \"Successfully\" in rec[\"text\"]:\n",
    "        tokens = rec[\"text\"].split()\n",
    "        tokens[4] = f'[{granule_count}'\n",
    "        text = ' '.join(tokens)\n",
    "        print(f'{text}                                                        \\r', end=\"\")\n",
    "        granule_count += 1\n",
    "\n",
    "# build and transmit requests to SlideRule\n",
    "def runSlideRule():\n",
    "    global atl06_parms, granule_count\n",
    "\n",
    "    # reset granule count\n",
    "    granule_count = 0\n",
    "\n",
    "    # set the url for the sliderule service\n",
    "    sliderule.init(\"slideruleearth.io\", loglevel=logging.ERROR)\n",
    "\n",
    "    # build sliderule parameters using latest values from widget\n",
    "    atl06_parms = {\n",
    "        # surface type: 0-land, 1-ocean, 2-sea ice, 3-land ice, 4-inland water\n",
    "        \"srt\": icesat2.SRT_DYNAMIC,\n",
    "        # length of ATL06-SR segment in meters\n",
    "        \"len\": SRwidgets.length.value,\n",
    "        # step distance for successive ATL06-SR segments in meters\n",
    "        \"res\": SRwidgets.step.value,\n",
    "        # confidence level for PE selection\n",
    "        \"cnf\": SRwidgets.confidence.value,\n",
    "        # ATL08 land surface classifications\n",
    "        \"atl08_class\": list(SRwidgets.land_class.value),\n",
    "        # maximum iterations, not including initial least-squares-fit selection\n",
    "        \"maxi\": SRwidgets.iteration.value,\n",
    "        # minimum along track spread\n",
    "        \"ats\": SRwidgets.spread.value,\n",
    "        # minimum PE count\n",
    "        \"cnt\": SRwidgets.count.value,\n",
    "        # minimum height of PE window in meters\n",
    "        \"H_min_win\": SRwidgets.window.value,\n",
    "        # maximum robust dispersion in meters\n",
    "        \"sigma_r_max\": SRwidgets.sigma.value\n",
    "    }\n",
    "\n",
    "    # clear existing geodataframe results\n",
    "    elevations = [sliderule.emptyframe()]\n",
    "\n",
    "    # for each region of interest\n",
    "    for poly in m.regions:\n",
    "        # add polygon from map to sliderule parameters\n",
    "        atl06_parms[\"poly\"] = poly\n",
    "        # make the request to the SlideRule (ATL06-SR) endpoint\n",
    "        # and pass it the request parameters to request ATL06 Data\n",
    "        elevations.append(icesat2.atl06p(atl06_parms, callbacks={'eventrec': demo_logeventrec, 'exceptrec': demo_exceptrec}))\n",
    "\n",
    "    # return concatenated set of results\n",
    "    gdf = geopandas.pd.concat(elevations)\n",
    "    return gdf\n",
    "\n",
    "# run sliderule action\n",
    "def on_run_clicked(b):\n",
    "    global atl06_rsps, points_dropdown\n",
    "    with run_output:\n",
    "        print(f'SlideRule processing request... initiated\\r', end=\"\")\n",
    "        perf_start = time.perf_counter()\n",
    "        atl06_rsps = runSlideRule()\n",
    "        perf_duration = time.perf_counter() - perf_start\n",
    "        print(f'SlideRule processing request... completed in {perf_duration:.3f} seconds; returned {atl06_rsps.shape[0]} elevations                                   ')\n",
    "        if atl06_rsps.shape[0] > 0:\n",
    "            max_plot_points = 10000\n",
    "            if points_dropdown.value == \"100K\":\n",
    "                max_plot_points = 100000\n",
    "            elif points_dropdown.value == \"all\":\n",
    "                max_plot_points = 1000000000\n",
    "            if max_plot_points > atl06_rsps.shape[0]:\n",
    "                max_plot_points = atl06_rsps.shape[0]\n",
    "            print(f'Plotting {max_plot_points} of {atl06_rsps.shape[0]} elevations. This may take 10-60+ seconds for larger point datasets.')\n",
    "            fields = atl06_rsps.leaflet.default_atl06_fields()\n",
    "            atl06_rsps.leaflet.GeoData(m.map,\n",
    "                column_name=SRwidgets.variable.value,\n",
    "                cmap=SRwidgets.colormap,\n",
    "                max_plot_points=max_plot_points,\n",
    "                tooltip=True,\n",
    "                colorbar=True,\n",
    "                fields=fields\n",
    "            )\n",
    "            # install handlers and callbacks\n",
    "            atl06_rsps.leaflet.set_observables(SRwidgets)\n",
    "            atl06_rsps.leaflet.add_selected_callback(SRwidgets.atl06_click_handler)\n",
    "            m.add_region_callback(atl06_rsps.leaflet.handle_region)\n",
    "\n",
    "# refresh action\n",
    "def on_refresh_clicked(b):\n",
    "    global atl06_rsps\n",
    "    with refresh_output:\n",
    "        if atl06_rsps is not None and atl06_rsps.shape[0] > 0:\n",
    "            max_plot_points = 10000\n",
    "            if points_dropdown.value == \"100K\":\n",
    "                max_plot_points = 100000\n",
    "            elif points_dropdown.value == \"all\":\n",
    "                max_plot_points = 1000000000\n",
    "            if max_plot_points > atl06_rsps.shape[0]:\n",
    "                max_plot_points = atl06_rsps.shape[0]\n",
    "            print(f'Plotting {max_plot_points} of {atl06_rsps.shape[0]} elevations. This may take 10-60+ seconds for larger point datasets.')\n",
    "            fields = atl06_rsps.leaflet.default_atl06_fields()\n",
    "            atl06_rsps.leaflet.GeoData(m.map,\n",
    "                column_name=SRwidgets.variable.value,\n",
    "                cmap=SRwidgets.colormap,\n",
    "                max_plot_points=max_plot_points,\n",
    "                tooltip=True,\n",
    "                colorbar=True,\n",
    "                fields=fields\n",
    "            )\n",
    "            # install handlers and callbacks\n",
    "            atl06_rsps.leaflet.set_observables(SRwidgets)\n",
    "            atl06_rsps.leaflet.add_selected_callback(SRwidgets.atl06_click_handler)\n",
    "            m.add_region_callback(atl06_rsps.leaflet.handle_region)\n",
    "\n",
    "# show code action\n",
    "def on_show_code06_clicked(b):\n",
    "    global url_textbox, atl06_parms\n",
    "    with show_code06_output:\n",
    "        display.clear_output()\n",
    "        print(f'sliderule.init()')\n",
    "        # validate boolean entries to be in title case\n",
    "        atl06_json = json.dumps(atl06_parms, indent=4)\n",
    "        atl06_json = re.sub(r'\\b(true|false)', lambda m: m.group(1).title(), atl06_json)\n",
    "        print('parms = ', atl06_json, sep='')\n",
    "        print('gdf = icesat2.atl06p(parms)')\n",
    "\n",
    "# Download ATL06-SR data as geojson\n",
    "display.display(download_output)\n",
    "#SRwidgets.file_format.value = 'geoparquet'\n",
    "def download_file(gdf, filename, mime_type='text/json'):\n",
    "    if (mime_type == 'text/json'):\n",
    "        content = base64.b64encode(gdf.to_json().encode()).decode()\n",
    "    elif (mime_type == 'text/csv'):\n",
    "        content = base64.b64encode(gdf.to_csv().encode()).decode()\n",
    "    elif (mime_type == 'application/vnd.apache.parquet'):\n",
    "        fid = BytesIO()\n",
    "        parms = copy.copy(atl06_parms)\n",
    "        version = sliderule.get_version()\n",
    "        parms['version'] = version['icesat2']['version']\n",
    "        parms['commit'] = version['icesat2']['commit']\n",
    "        io.to_parquet(gdf, fid, parameters=parms, regions=m.regions)\n",
    "        content = base64.b64encode(fid.getbuffer()).decode()\n",
    "    # create download link\n",
    "    url = f'data:{mime_type};charset=utf-8;base64,{content}'\n",
    "    js = f\"\"\"\n",
    "        var a = document.createElement('a');\n",
    "        a.setAttribute('download', '{filename}');\n",
    "        a.setAttribute('href', '{url}');\n",
    "        a.click();\n",
    "    \"\"\"\n",
    "    with download_output:\n",
    "        display.clear_output()\n",
    "        display.display(display.HTML(f'<script>{js}</script>'))\n",
    "\n",
    "def on_atl06_download_clicked(e=None):\n",
    "    download_file(atl06_rsps, SRwidgets.atl06_filename,\n",
    "        mime_type=SRwidgets.mime_type)\n",
    "\n",
    "# link buttons\n",
    "run_button.on_click(on_run_clicked)\n",
    "refresh_button.on_click(on_refresh_clicked)\n",
    "show_code06_button.on_click(on_show_code06_clicked)\n",
    "download_atl06_button.on_click(on_atl06_download_clicked)"
   ]
  },
  {
   "cell_type": "code",
   "execution_count": null,
   "metadata": {
    "extensions": {
     "jupyter_dashboards": {
      "version": 1,
      "views": {
       "default_view": {
        "col": 0,
        "height": 18,
        "row": 14,
        "width": 3
       }
      }
     }
    }
   },
   "outputs": [],
   "source": [
    "# points to plot drop down\n",
    "points_dropdown = widgets.Dropdown(\n",
    "    options = [\"10K\", \"100K\", \"all\"],\n",
    "    value = \"10K\",\n",
    "    description = \"Pts to Draw\",\n",
    "    disabled = False,\n",
    ")\n",
    "\n",
    "# display widgets for setting SlideRule parameters\n",
    "display.display(widgets.VBox([\n",
    "    SRwidgets.length,\n",
    "    SRwidgets.step,\n",
    "    SRwidgets.confidence,\n",
    "    SRwidgets.land_class,\n",
    "    SRwidgets.iteration,\n",
    "    SRwidgets.spread,\n",
    "    SRwidgets.count,\n",
    "    SRwidgets.window,\n",
    "    SRwidgets.sigma,\n",
    "    SRwidgets.variable,\n",
    "    SRwidgets.cmap,\n",
    "    points_dropdown,\n",
    "    SRwidgets.reverse,\n",
    "]))\n",
    "\n",
    "# display buttons\n",
    "display.display(SRwidgets.HBox([run_button, refresh_button, refresh_output]))\n",
    "display.display(SRwidgets.HBox([download_atl06_button, SRwidgets.file_format]))\n",
    "display.display(SRwidgets.HBox([show_code06_button, show_code06_output]))\n"
   ]
  },
  {
   "cell_type": "code",
   "execution_count": null,
   "metadata": {
    "extensions": {
     "jupyter_dashboards": {
      "version": 1,
      "views": {
       "default_view": {
        "hidden": true
       }
      }
     }
    }
   },
   "outputs": [],
   "source": [
    "# globals for atl03 processing\n",
    "atl03_rsps = None\n",
    "atl03_parms = None\n",
    "show_code03_button = widgets.Button(description=\"Show Code\")\n",
    "show_code03_output = widgets.Output()\n",
    "elev_dropdown = None\n",
    "pc_button = widgets.Button(description=\"Plot Photon Cloud\")\n",
    "pc_output = widgets.Output()\n",
    "\n",
    "# track lookup tables\n",
    "gt2str = {icesat2.GT1L: 'gt1l', icesat2.GT1R: 'gt1r', icesat2.GT2L: 'gt2l', icesat2.GT2R: 'gt2r', icesat2.GT3L: 'gt3l', icesat2.GT3R: 'gt3r'}\n",
    "str2gt = {'gt1l': icesat2.GT1L, 'gt1r': icesat2.GT1R, 'gt2l': icesat2.GT2L, 'gt2r': icesat2.GT2R, 'gt3l': icesat2.GT3L, 'gt3r': icesat2.GT3R}\n",
    "gtlookup = {icesat2.GT1L: 1, icesat2.GT1R: 1, icesat2.GT2L: 2, icesat2.GT2R: 2, icesat2.GT3L: 3, icesat2.GT3R: 3}\n",
    "pairlookup = {icesat2.GT1L: 0, icesat2.GT1R: 1, icesat2.GT2L: 0, icesat2.GT2R: 1, icesat2.GT3L: 0, icesat2.GT3R: 1}"
   ]
  },
  {
   "cell_type": "markdown",
   "metadata": {
    "extensions": {
     "jupyter_dashboards": {
      "version": 1,
      "views": {
       "default_view": {
        "hidden": true
       }
      }
     }
    }
   },
   "source": [
    "### Photon Cloud ([atl03sp](https://slideruleearth.io/rtd/api_reference/icesat2.html#atl03sp))"
   ]
  },
  {
   "cell_type": "code",
   "execution_count": null,
   "metadata": {
    "extensions": {
     "jupyter_dashboards": {
      "version": 1,
      "views": {
       "default_view": {
        "col": 3,
        "height": 15,
        "row": 32,
        "width": 7
       }
      }
     }
    }
   },
   "outputs": [],
   "source": [
    "%matplotlib widget\n",
    "# ATL03 Subsetter\n",
    "def runATL03Subsetter():\n",
    "    global atl03_parms\n",
    "\n",
    "    sliderule.init(\"slideruleearth.io\", loglevel=logging.ERROR)\n",
    "\n",
    "    # build sliderule parameters using latest values from widget\n",
    "    atl03_parms = {\n",
    "        # processing parameters\n",
    "        \"srt\": icesat2.SRT_DYNAMIC,\n",
    "        \"len\": SRwidgets.length.value,\n",
    "        \"res\": SRwidgets.step.value,\n",
    "\n",
    "        # classification and checks\n",
    "        \"pass_invalid\": True, # still return photon segments that fail checks\n",
    "        \"cnf\": -2, # all photons\n",
    "        \"atl08_class\": [\"atl08_noise\", \"atl08_ground\", \"atl08_canopy\", \"atl08_top_of_canopy\", \"atl08_unclassified\"],\n",
    "        \"yapc\": {\"score\": 0}, # all photons\n",
    "        \"ats\": SRwidgets.spread.value,\n",
    "        \"cnt\": SRwidgets.count.value,\n",
    "\n",
    "        # region of interest\n",
    "        \"poly\": m.regions[0],\n",
    "\n",
    "        # track selection\n",
    "        \"rgt\": int(SRwidgets.rgt.value),\n",
    "        \"cycle\": int(SRwidgets.cycle.value),\n",
    "        \"track\": gtlookup[str2gt[SRwidgets.ground_track.value]]\n",
    "    }\n",
    "\n",
    "    # make call to sliderule\n",
    "    rsps = icesat2.atl03sp(atl03_parms)\n",
    "\n",
    "    # return geodataframe\n",
    "    return rsps\n",
    "\n",
    "# photon_cloud action\n",
    "def on_pc_clicked(b):\n",
    "    global atl03_rsps, atl06_rsps, elev_dropdown\n",
    "    with pc_output:\n",
    "        pc_output.clear_output(True)\n",
    "\n",
    "        # Run ATL03 Subsetter\n",
    "        print(f'SlideRule processing request... initiated\\r', end=\"\")\n",
    "        perf_start = time.perf_counter()\n",
    "        atl03_rsps = runATL03Subsetter()\n",
    "        perf_duration = time.perf_counter() - perf_start\n",
    "        print(f'SlideRule processing request... completed in {perf_duration:.3f} seconds; returned {atl03_rsps.shape[0]} records                                   ')\n",
    "\n",
    "        # Create Plots\n",
    "        if atl03_rsps.shape[0] > 0 and atl06_rsps.shape[0] > 0:\n",
    "            fig,ax = plt.subplots(num=None, figsize=(10, 8))\n",
    "            fig.set_facecolor('white')\n",
    "            fig.canvas.header_visible = False\n",
    "            ax.set_title(\"Photon Cloud\")\n",
    "            ax.set_ylabel('height (m)')\n",
    "            # start at the first segment\n",
    "            x_offset = atl03_rsps['segment_dist'].min()\n",
    "            # plot ATL03 and ATL06 data\n",
    "            atl03_rsps.icesat2.plot(ax=ax, kind='scatter',\n",
    "                data_type='atl03', cmap=SRwidgets.colormap,\n",
    "                classification=SRwidgets.plot_classification.value,\n",
    "                x_offset=x_offset, legend=True, legend_frameon=True,\n",
    "                **SRwidgets.plot_kwargs)\n",
    "            if (elev_dropdown.value == 'enabled'):\n",
    "                atl06_rsps.icesat2.plot(ax=ax, kind='scatter',\n",
    "                    data_type='atl06', x_offset=x_offset,\n",
    "                    legend=True, legend_frameon=True,\n",
    "                    **SRwidgets.plot_kwargs)\n",
    "            # draw and show plot\n",
    "            plt.show()\n",
    "            plt.draw()\n",
    "\n",
    "# create button to display geodataframe\n",
    "pc_button.on_click(on_pc_clicked)\n",
    "\n",
    "# click handler for individual photons\n",
    "def click_handler(feature):\n",
    "    if \"properties\" in feature:\n",
    "        if \"rgt\" in feature[\"properties\"] and \"cycle\" in feature[\"properties\"] and \"gt\" in feature[\"properties\"]:\n",
    "            SRwidgets.rgt.value = str(feature[\"properties\"][\"rgt\"])\n",
    "            SRwidgets.cycle.value = str(feature[\"properties\"][\"cycle\"])\n",
    "            SRwidgets.ground_track.value = gt2str[feature[\"properties\"][\"gt\"]]\n",
    "\n",
    "# install click handler callback\n",
    "m.add_selected_callback(click_handler)\n",
    "\n",
    "# show code action\n",
    "def on_show_code03_clicked(b):\n",
    "    global url_textbox, atl03_parms\n",
    "    with show_code03_output:\n",
    "        display.clear_output()\n",
    "        print(f'sliderule.init()')\n",
    "        # validate boolean entries to be in title case\n",
    "        atl03_json = json.dumps(atl03_parms, indent=4)\n",
    "        atl03_json = re.sub(r'\\b(true|false)', lambda m: m.group(1).title(), atl03_json)\n",
    "        print('parms = ', atl03_json, sep='')\n",
    "        print('gdf = icesat2.atl03sp(parms)')\n",
    "\n",
    "\n",
    "def on_atl03_download_clicked(e=None):\n",
    "    download_file(atl03_rsps, SRwidgets.atl03_filename,\n",
    "        mime_type=SRwidgets.mime_type)\n",
    "\n",
    "# install click handler callback\n",
    "show_code03_button.on_click(on_show_code03_clicked)\n",
    "download_atl03_button.on_click(on_atl03_download_clicked)"
   ]
  },
  {
   "cell_type": "code",
   "execution_count": null,
   "metadata": {
    "extensions": {
     "jupyter_dashboards": {
      "version": 1,
      "views": {
       "default_view": {
        "col": 0,
        "height": 15,
        "row": 32,
        "width": 3
       }
      }
     }
    },
    "tags": []
   },
   "outputs": [],
   "source": [
    "# elevation plot drop down\n",
    "elev_dropdown = widgets.Dropdown(\n",
    "    options = [\"enabled\", \"disabled\"],\n",
    "    value = \"enabled\",\n",
    "    description = \"ATL06-SR\",\n",
    "    disabled = False,\n",
    ")\n",
    "\n",
    "display.display(SRwidgets.rgt)\n",
    "display.display(SRwidgets.cycle)\n",
    "display.display(SRwidgets.ground_track)\n",
    "display.display(SRwidgets.plot_classification)\n",
    "display.display(elev_dropdown)\n",
    "display.display(pc_button)\n",
    "display.display(pc_output)\n",
    "display.display(SRwidgets.HBox([download_atl03_button, SRwidgets.file_format]))\n",
    "display.display(show_code03_button, show_code03_output)"
   ]
  },
  {
   "cell_type": "code",
   "execution_count": null,
   "metadata": {},
   "outputs": [],
   "source": []
  }
 ],
 "metadata": {
  "extensions": {
   "jupyter_dashboards": {
    "activeView": "default_view",
    "version": 1,
    "views": {
     "default_view": {
      "cellMargin": 10,
      "defaultCellHeight": 40,
      "maxColumns": 12,
      "name": "active_view",
      "type": "grid"
     }
    }
   }
  },
  "interpreter": {
   "hash": "31f2aee4e71d21fbe5cf8b01ff0e069b9275f58929596ceb00d14d90e3e16cd6"
  },
  "kernelspec": {
   "display_name": "Python 3 (ipykernel)",
   "language": "python",
   "name": "python3"
  },
  "language_info": {
   "codemirror_mode": {
    "name": "ipython",
    "version": 3
   },
   "file_extension": ".py",
   "mimetype": "text/x-python",
   "name": "python",
   "nbconvert_exporter": "python",
   "pygments_lexer": "ipython3",
   "version": "3.12.0"
  },
  "toc-showtags": false
 },
 "nbformat": 4,
 "nbformat_minor": 4
}
